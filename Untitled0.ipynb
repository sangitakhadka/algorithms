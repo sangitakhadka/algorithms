{
  "nbformat": 4,
  "nbformat_minor": 0,
  "metadata": {
    "colab": {
      "name": "Untitled0.ipynb",
      "provenance": []
    },
    "kernelspec": {
      "name": "python3",
      "display_name": "Python 3"
    }
  },
  "cells": [
    {
      "cell_type": "code",
      "metadata": {
        "id": "Q2NaQd5It4h0",
        "colab_type": "code",
        "colab": {}
      },
      "source": [
        ""
      ],
      "execution_count": 0,
      "outputs": []
    },
    {
      "cell_type": "markdown",
      "metadata": {
        "id": "YX8HNKAeuEwT",
        "colab_type": "text"
      },
      "source": [
        "#　初めてのノートブック\n",
        "＊＊書きましょう"
      ]
    },
    {
      "cell_type": "code",
      "metadata": {
        "id": "0f6LKEOTvXpl",
        "colab_type": "code",
        "outputId": "bb20d07b-c40a-4e76-b7d0-433ab868a42a",
        "colab": {
          "base_uri": "https://localhost:8080/",
          "height": 34
        }
      },
      "source": [
        "#計算する\n",
        "\n",
        "2*(3+4)\n"
      ],
      "execution_count": 0,
      "outputs": [
        {
          "output_type": "execute_result",
          "data": {
            "text/plain": [
              "14"
            ]
          },
          "metadata": {
            "tags": []
          },
          "execution_count": 5
        }
      ]
    },
    {
      "cell_type": "markdown",
      "metadata": {
        "id": "sjk_lj3Gwq70",
        "colab_type": "text"
      },
      "source": [
        "*出力してみましょう*\n",
        "\n",
        "\n",
        "```\n",
        "# first value:1\n",
        "\n",
        "```\n",
        "\n",
        "\n"
      ]
    },
    {
      "cell_type": "code",
      "metadata": {
        "id": "FzD1a8fCyRvm",
        "colab_type": "code",
        "outputId": "6ce80c50-9d93-4365-d364-b67b2a71ed40",
        "colab": {
          "base_uri": "https://localhost:8080/",
          "height": 34
        }
      },
      "source": [
        "'''\n",
        "値を出力する\n",
        "'''\n",
        "print('first value:,1')"
      ],
      "execution_count": 0,
      "outputs": [
        {
          "output_type": "stream",
          "text": [
            "first value:,1\n"
          ],
          "name": "stdout"
        }
      ]
    },
    {
      "cell_type": "markdown",
      "metadata": {
        "id": "eXyVRq1k0fwq",
        "colab_type": "text"
      },
      "source": [
        "**'sort'の関数を呼び出す**\n",
        "\n",
        "\n",
        "1.以下リストを作る\n",
        "\n",
        "```\n",
        "number=[4,3,2,1]\n",
        "```\n",
        "2.` sort()`関数を使って、リストをソートする。\n",
        "\n",
        "3.`print`使って、出力する。\n"
      ]
    },
    {
      "cell_type": "code",
      "metadata": {
        "id": "4_KOPptP4PCn",
        "colab_type": "code",
        "outputId": "3986d2dd-7c75-4c74-d11f-f652650d47b7",
        "colab": {
          "base_uri": "https://localhost:8080/",
          "height": 34
        }
      },
      "source": [
        "numbers=[4,3,2,1]\n",
        "numbers.sort()\n",
        "print(numbers)"
      ],
      "execution_count": 0,
      "outputs": [
        {
          "output_type": "stream",
          "text": [
            "[1, 2, 3, 4]\n"
          ],
          "name": "stdout"
        }
      ]
    }
  ]
}